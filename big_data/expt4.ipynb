{
 "cells": [
  {
   "cell_type": "code",
   "execution_count": 3,
   "id": "bd74976f",
   "metadata": {},
   "outputs": [],
   "source": [
    "import pyspark \n",
    "from pyspark import SparkContext, SparkConf\n"
   ]
  },
  {
   "cell_type": "code",
   "execution_count": 4,
   "id": "6bd8a553",
   "metadata": {},
   "outputs": [
    {
     "name": "stderr",
     "output_type": "stream",
     "text": [
      "WARNING: Using incubator modules: jdk.incubator.vector\n",
      "Using Spark's default log4j profile: org/apache/spark/log4j2-defaults.properties\n",
      "25/08/11 15:23:40 WARN Utils: Your hostname, kingstein, resolves to a loopback address: 127.0.1.1; using 10.96.200.224 instead (on interface wlp3s0)\n",
      "25/08/11 15:23:40 WARN Utils: Set SPARK_LOCAL_IP if you need to bind to another address\n",
      "Using Spark's default log4j profile: org/apache/spark/log4j2-defaults.properties\n",
      "Setting default log level to \"WARN\".\n",
      "To adjust logging level use sc.setLogLevel(newLevel). For SparkR, use setLogLevel(newLevel).\n",
      "25/08/11 15:23:42 WARN NativeCodeLoader: Unable to load native-hadoop library for your platform... using builtin-java classes where applicable\n"
     ]
    }
   ],
   "source": [
    "sc = SparkContext(\"local\",\"Basic RDD Transformation and Actions\")"
   ]
  },
  {
   "cell_type": "code",
   "execution_count": 6,
   "id": "ff27f0d7",
   "metadata": {},
   "outputs": [],
   "source": [
    "data = [\"Spark is Fast\",\"SPark is powerful\",\"SPark is easy to use\"]\n",
    "rdd = sc.parallelize(data)"
   ]
  },
  {
   "cell_type": "code",
   "execution_count": 8,
   "id": "47453497",
   "metadata": {},
   "outputs": [],
   "source": [
    "words = rdd.flatMap(lambda line:line.split(\" \"))\n",
    "word_pairs = words.map(lambda word:(word,1))\n",
    "word_count = word_pairs.reduceByKey(lambda a,b:a+b)\n",
    "filtered_words = word_count.filter(lambda x:x[1]>1)\n"
   ]
  },
  {
   "cell_type": "code",
   "execution_count": 10,
   "id": "b5ba164c",
   "metadata": {},
   "outputs": [
    {
     "name": "stdout",
     "output_type": "stream",
     "text": [
      "\n",
      " -- Retrival Action ---\n",
      "Collect :  ['Spark', 'is', 'Fast', 'SPark', 'is', 'powerful', 'SPark', 'is', 'easy', 'to', 'use']\n",
      "Take (5): ['Spark', 'is', 'Fast', 'SPark', 'is']\n",
      "Take Sample (no replacement,4): ['is', 'Fast', 'powerful', 'SPark']\n",
      "Take Ordered (alphabetical,5): ['Fast', 'SPark', 'SPark', 'Spark', 'easy']\n",
      "Top 5 :  ['use', 'to', 'powerful', 'is', 'is']\n",
      "First Element :  Spark\n",
      "IS empty : False\n",
      "\n",
      " Foreach output\n"
     ]
    },
    {
     "name": "stderr",
     "output_type": "stream",
     "text": [
      "Word: Spark\n",
      "Word: is\n",
      "Word: Fast\n",
      "Word: SPark\n",
      "Word: is\n",
      "Word: powerful\n",
      "Word: SPark\n",
      "Word: is\n",
      "Word: easy\n",
      "Word: to\n",
      "Word: use\n"
     ]
    }
   ],
   "source": [
    "print(\"\\n -- Retrival Action ---\")\n",
    "print(\"Collect : \",words.collect())\n",
    "print(\"Take (5):\",words.take(5))\n",
    "print(\"Take Sample (no replacement,4):\",words.takeSample(False,4))\n",
    "print(\"Take Ordered (alphabetical,5):\",words.takeOrdered(5))\n",
    "print(\"Top 5 : \",words.top(5))\n",
    "print(\"First Element : \",words.first())\n",
    "print(\"IS empty :\",words.isEmpty())\n",
    "print(\"\\n Foreach output\")\n",
    "words.foreach(lambda w: print(\"Word:\",w))"
   ]
  },
  {
   "cell_type": "code",
   "execution_count": 11,
   "id": "cf052a93",
   "metadata": {},
   "outputs": [
    {
     "name": "stdout",
     "output_type": "stream",
     "text": [
      "\n",
      " ---Aggregation Actions ---\n",
      "Count 11\n",
      "CountByValue {'Spark': 1, 'is': 3, 'Fast': 1, 'SPark': 2, 'powerful': 1, 'easy': 1, 'to': 1, 'use': 1}\n",
      "Reduce (total word count): 11\n",
      "Fold (total word count): 11\n"
     ]
    }
   ],
   "source": [
    "print(\"\\n ---Aggregation Actions ---\")\n",
    "print(\"Count\",words.count())\n",
    "print(\"CountByValue\",dict(words.countByValue()))\n",
    "print(\"Reduce (total word count):\",words.map(lambda x:1).reduce(lambda a,b: a+b))\n",
    "print(\"Fold (total word count):\", words.map(lambda x:1).fold(0,lambda a,b: a+b))"
   ]
  },
  {
   "cell_type": "code",
   "execution_count": 13,
   "id": "e0e63dbf",
   "metadata": {},
   "outputs": [],
   "source": [
    "agg_result = words.aggregate(\n",
    "(0, 0), # (total length, word count)\n",
    "lambda acc, value: (acc[0] + len(value), acc[1] + 1), # seqOp\n",
    "lambda acc1, acc2: (acc1[0] + acc2[0], acc1[1] + acc2[1]) # combOp\n",
    ")"
   ]
  },
  {
   "cell_type": "code",
   "execution_count": 14,
   "id": "cd8497b7",
   "metadata": {},
   "outputs": [
    {
     "name": "stdout",
     "output_type": "stream",
     "text": [
      "Aggregate (avg word length): 3.8181818181818183\n"
     ]
    }
   ],
   "source": [
    "avg_word_length = agg_result[0]/agg_result[1]\n",
    "print(\"Aggregate (avg word length):\",avg_word_length)"
   ]
  },
  {
   "cell_type": "code",
   "execution_count": 15,
   "id": "90ec480b",
   "metadata": {},
   "outputs": [],
   "source": [
    "sc.stop()"
   ]
  }
 ],
 "metadata": {
  "kernelspec": {
   "display_name": ".venv",
   "language": "python",
   "name": "python3"
  },
  "language_info": {
   "codemirror_mode": {
    "name": "ipython",
    "version": 3
   },
   "file_extension": ".py",
   "mimetype": "text/x-python",
   "name": "python",
   "nbconvert_exporter": "python",
   "pygments_lexer": "ipython3",
   "version": "3.12.3"
  }
 },
 "nbformat": 4,
 "nbformat_minor": 5
}
