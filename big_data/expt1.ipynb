{
 "cells": [
  {
   "cell_type": "code",
   "execution_count": 6,
   "id": "1d75a2f4",
   "metadata": {},
   "outputs": [
    {
     "name": "stdout",
     "output_type": "stream",
     "text": [
      "/bin/bash: /home/franz/Documents/Lab/.venv/bin/pip: /home/franz/Documents/Lab/DL/.venv/bin/python: bad interpreter: No such file or directory\n"
     ]
    },
    {
     "ename": "ModuleNotFoundError",
     "evalue": "No module named 'findspark'",
     "output_type": "error",
     "traceback": [
      "\u001b[31m---------------------------------------------------------------------------\u001b[39m",
      "\u001b[31mModuleNotFoundError\u001b[39m                       Traceback (most recent call last)",
      "\u001b[36mCell\u001b[39m\u001b[36m \u001b[39m\u001b[32mIn[6]\u001b[39m\u001b[32m, line 2\u001b[39m\n\u001b[32m      1\u001b[39m get_ipython().system(\u001b[33m'\u001b[39m\u001b[33mpip show findspark\u001b[39m\u001b[33m'\u001b[39m)\n\u001b[32m----> \u001b[39m\u001b[32m2\u001b[39m \u001b[38;5;28;01mimport\u001b[39;00m\u001b[38;5;250m \u001b[39m\u001b[34;01mfindspark\u001b[39;00m\n\u001b[32m      3\u001b[39m findspark.init()\n\u001b[32m      4\u001b[39m \u001b[38;5;28;01mfrom\u001b[39;00m\u001b[38;5;250m \u001b[39m\u001b[34;01mpyspark\u001b[39;00m\u001b[38;5;250m \u001b[39m\u001b[38;5;28;01mimport\u001b[39;00m SparkSession\n",
      "\u001b[31mModuleNotFoundError\u001b[39m: No module named 'findspark'"
     ]
    }
   ],
   "source": [
    "!pip show findspark\n",
    "import findspark\n",
    "findspark.init()\n",
    "from pyspark import SparkSession\n"
   ]
  },
  {
   "cell_type": "code",
   "execution_count": null,
   "id": "c61ab461",
   "metadata": {},
   "outputs": [],
   "source": [
    "spark = SparkSession.builder\\\n",
    "    .master(\"local\")\\\n",
    "        .appName(\"Expt1\")\\\n",
    "            .getOrCreate()\n",
    "\n",
    "sc = spark.sparkContext"
   ]
  },
  {
   "cell_type": "code",
   "execution_count": null,
   "id": "4ca9df0f",
   "metadata": {},
   "outputs": [],
   "source": [
    "in_text = textfile('blah.txt ')\n",
    "in_text = collect()"
   ]
  },
  {
   "cell_type": "code",
   "execution_count": null,
   "id": "88bd5608",
   "metadata": {},
   "outputs": [],
   "source": [
    "text_flatten = in_text.flatMap(lambda x: x.split(\"\"))\\\n",
    "    .map(lambda x: (x,1))\n",
    "    .reducebyKey(lambda x,y : x+y)\n",
    "text_file.collect()"
   ]
  },
  {
   "cell_type": "code",
   "execution_count": null,
   "id": "f4b1364d",
   "metadata": {},
   "outputs": [],
   "source": []
  }
 ],
 "metadata": {
  "kernelspec": {
   "display_name": "Python (.venv - Lab)",
   "language": "python",
   "name": "lab-venv"
  },
  "language_info": {
   "codemirror_mode": {
    "name": "ipython",
    "version": 3
   },
   "file_extension": ".py",
   "mimetype": "text/x-python",
   "name": "python",
   "nbconvert_exporter": "python",
   "pygments_lexer": "ipython3",
   "version": "3.11.0rc1"
  }
 },
 "nbformat": 4,
 "nbformat_minor": 5
}
