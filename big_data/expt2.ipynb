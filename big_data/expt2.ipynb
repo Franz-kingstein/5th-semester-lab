{
 "cells": [
  {
   "cell_type": "code",
   "execution_count": 11,
   "id": "be299942",
   "metadata": {},
   "outputs": [
    {
     "name": "stdout",
     "output_type": "stream",
     "text": [
      "Spark initialized successfully!\n"
     ]
    }
   ],
   "source": [
    "# Imports and Spark Configuration (Python/PySpark)\n",
    "from pyspark import SparkContext, SparkConf\n",
    "from pyspark.sql import SparkSession\n",
    "from pyspark.mllib.linalg.distributed import MatrixEntry, CoordinateMatrix\n",
    "\n",
    "# Initialize Spark Session (required for DataFrame operations)\n",
    "spark = SparkSession.builder \\\n",
    "    .appName(\"RDD MatrixMultiply\") \\\n",
    "    .master(\"local\") \\\n",
    "    .getOrCreate()\n",
    "\n",
    "# Get SparkContext from SparkSession\n",
    "sc = spark.sparkContext\n",
    "print(\"Spark initialized successfully!\")"
   ]
  },
  {
   "cell_type": "code",
   "execution_count": 12,
   "id": "7c35ad62",
   "metadata": {},
   "outputs": [
    {
     "name": "stdout",
     "output_type": "stream",
     "text": [
      "Matrix A entries:\n",
      "(0,0) = 1.0\n",
      "(0,2) = 2.0\n",
      "(1,1) = 3.0\n",
      "(1,2) = -1.0\n"
     ]
    }
   ],
   "source": [
    "# Define Matrix A as RDD (Python)\n",
    "# Matrix A (2x3): \n",
    "# [1, 0, 2]\n",
    "# [0, 3, -1]\n",
    "entries_a = sc.parallelize([\n",
    "    MatrixEntry(0, 0, 1.0), MatrixEntry(0, 2, 2.0),\n",
    "    MatrixEntry(1, 1, 3.0), MatrixEntry(1, 2, -1.0)\n",
    "])\n",
    "\n",
    "print(\"Matrix A entries:\")\n",
    "for entry in entries_a.collect():\n",
    "    print(f\"({entry.i},{entry.j}) = {entry.value}\")"
   ]
  },
  {
   "cell_type": "code",
   "execution_count": 13,
   "id": "32aa78af",
   "metadata": {},
   "outputs": [
    {
     "name": "stdout",
     "output_type": "stream",
     "text": [
      "Matrix B entries:\n",
      "(0,0) = 1.0\n",
      "(1,0) = 3.0\n",
      "(2,0) = 5.0\n",
      "(0,1) = 2.0\n",
      "(1,1) = 4.0\n",
      "(2,1) = 6.0\n"
     ]
    }
   ],
   "source": [
    "# Define Matrix B as RDD (Python)\n",
    "# Matrix B (3x2):\n",
    "# [1, 2]\n",
    "# [3, 4]  \n",
    "# [5, 6]\n",
    "entries_b = sc.parallelize([\n",
    "    MatrixEntry(0, 0, 1.0), MatrixEntry(1, 0, 3.0), MatrixEntry(2, 0, 5.0),\n",
    "    MatrixEntry(0, 1, 2.0), MatrixEntry(1, 1, 4.0), MatrixEntry(2, 1, 6.0)\n",
    "])\n",
    "\n",
    "print(\"Matrix B entries:\")\n",
    "for entry in entries_b.collect():\n",
    "    print(f\"({entry.i},{entry.j}) = {entry.value}\")"
   ]
  },
  {
   "cell_type": "code",
   "execution_count": 14,
   "id": "6f9a337d",
   "metadata": {},
   "outputs": [
    {
     "name": "stdout",
     "output_type": "stream",
     "text": [
      "Matrix A keyed by column:\n",
      "(0, (0, 1.0))\n",
      "(2, (0, 2.0))\n",
      "(1, (1, 3.0))\n",
      "(2, (1, -1.0))\n",
      "\n",
      "Matrix B keyed by row:\n",
      "(0, (0, 1.0))\n",
      "(1, (0, 3.0))\n",
      "(2, (0, 5.0))\n",
      "(0, (1, 2.0))\n",
      "(1, (1, 4.0))\n",
      "(2, (1, 6.0))\n",
      "(0, (0, 1.0))\n",
      "(2, (0, 2.0))\n",
      "(1, (1, 3.0))\n",
      "(2, (1, -1.0))\n",
      "\n",
      "Matrix B keyed by row:\n",
      "(0, (0, 1.0))\n",
      "(1, (0, 3.0))\n",
      "(2, (0, 5.0))\n",
      "(0, (1, 2.0))\n",
      "(1, (1, 4.0))\n",
      "(2, (1, 6.0))\n"
     ]
    }
   ],
   "source": [
    "# Matrix Multiplication Logic (Python)\n",
    "# Step 1: Key matrices for join operation\n",
    "a_keyed = entries_a.map(lambda e: (e.j, (e.i, e.value)))\n",
    "b_keyed = entries_b.map(lambda e: (e.i, (e.j, e.value)))\n",
    "\n",
    "print(\"Matrix A keyed by column:\")\n",
    "for item in a_keyed.collect():\n",
    "    print(item)\n",
    "\n",
    "print(\"\\nMatrix B keyed by row:\")\n",
    "for item in b_keyed.collect():\n",
    "    print(item)"
   ]
  },
  {
   "cell_type": "code",
   "execution_count": 15,
   "id": "e8dc04c8",
   "metadata": {},
   "outputs": [
    {
     "name": "stdout",
     "output_type": "stream",
     "text": [
      "Intermediate products:\n",
      "(0, ((0, 1.0), (0, 1.0)))\n",
      "(0, ((0, 1.0), (1, 2.0)))\n",
      "(2, ((0, 2.0), (0, 5.0)))\n",
      "(2, ((0, 2.0), (1, 6.0)))\n",
      "(2, ((1, -1.0), (0, 5.0)))\n",
      "(2, ((1, -1.0), (1, 6.0)))\n",
      "(1, ((1, 3.0), (0, 3.0)))\n",
      "(1, ((1, 3.0), (1, 4.0)))\n",
      "\n",
      "After multiplication and grouping:\n",
      "(0, ((0, 1.0), (0, 1.0)))\n",
      "(0, ((0, 1.0), (1, 2.0)))\n",
      "(2, ((0, 2.0), (0, 5.0)))\n",
      "(2, ((0, 2.0), (1, 6.0)))\n",
      "(2, ((1, -1.0), (0, 5.0)))\n",
      "(2, ((1, -1.0), (1, 6.0)))\n",
      "(1, ((1, 3.0), (0, 3.0)))\n",
      "(1, ((1, 3.0), (1, 4.0)))\n",
      "\n",
      "After multiplication and grouping:\n",
      "(0,0) = 11.0\n",
      "(1,1) = 6.0\n",
      "(0,1) = 14.0\n",
      "(1,0) = 4.0\n",
      "(0,0) = 11.0\n",
      "(1,1) = 6.0\n",
      "(0,1) = 14.0\n",
      "(1,0) = 4.0\n"
     ]
    }
   ],
   "source": [
    "# Step 2: Perform join and multiplication (Python)\n",
    "product = (a_keyed.join(b_keyed)\n",
    "          .map(lambda x: ((x[1][0][0], x[1][1][0]), x[1][0][1] * x[1][1][1]))\n",
    "          .reduceByKey(lambda a, b: a + b)\n",
    "          .map(lambda x: MatrixEntry(x[0][0], x[0][1], x[1])))\n",
    "\n",
    "print(\"Intermediate products:\")\n",
    "for item in a_keyed.join(b_keyed).collect():\n",
    "    print(item)\n",
    "\n",
    "print(\"\\nAfter multiplication and grouping:\")\n",
    "for entry in product.collect():\n",
    "    print(f\"({entry.i},{entry.j}) = {entry.value}\")"
   ]
  },
  {
   "cell_type": "code",
   "execution_count": 16,
   "id": "138ca6e4",
   "metadata": {},
   "outputs": [
    {
     "name": "stdout",
     "output_type": "stream",
     "text": [
      "Final Matrix Multiplication Result (A × B):\n",
      "==================================================\n",
      "(0,0) = 11.0\n",
      "(0,1) = 14.0\n",
      "(1,0) = 4.0\n",
      "(1,1) = 6.0\n",
      "(0,0) = 11.0\n",
      "(0,1) = 14.0\n",
      "(1,0) = 4.0\n",
      "(1,1) = 6.0\n",
      "\n",
      "Spark session stopped successfully!\n",
      "\n",
      "Spark session stopped successfully!\n"
     ]
    }
   ],
   "source": [
    "# Final Result (Python)\n",
    "result = CoordinateMatrix(product)\n",
    "\n",
    "print(\"Final Matrix Multiplication Result (A × B):\")\n",
    "print(\"=\" * 50)\n",
    "sorted_entries = sorted(result.entries.collect(), key=lambda e: (e.i, e.j))\n",
    "for entry in sorted_entries:\n",
    "    print(f\"({entry.i},{entry.j}) = {entry.value}\")\n",
    "\n",
    "# Stop Spark Session (this also stops SparkContext)\n",
    "spark.stop()\n",
    "print(\"\\nSpark session stopped successfully!\")"
   ]
  },
  {
   "cell_type": "code",
   "execution_count": 17,
   "id": "9aa6632c",
   "metadata": {},
   "outputs": [
    {
     "name": "stdout",
     "output_type": "stream",
     "text": [
      "NumPy Matrix Multiplication Result (for verification):\n",
      "Matrix A (2x3):\n",
      "[[ 1.  0.  2.]\n",
      " [ 0.  3. -1.]]\n",
      "\n",
      "Matrix B (3x2):\n",
      "[[1. 2.]\n",
      " [3. 4.]\n",
      " [5. 6.]]\n",
      "\n",
      "Result A × B (2x2):\n",
      "[[11. 14.]\n",
      " [ 4.  6.]]\n",
      "\n",
      "NumPy result in coordinate format:\n",
      "(0,0) = 11.0\n",
      "(0,1) = 14.0\n",
      "(1,0) = 4.0\n",
      "(1,1) = 6.0\n"
     ]
    }
   ],
   "source": [
    "# Alternative: NumPy Matrix Multiplication for Verification\n",
    "import numpy as np\n",
    "\n",
    "# Define matrices as NumPy arrays\n",
    "matrix_a = np.array([\n",
    "    [1.0, 0.0, 2.0],\n",
    "    [0.0, 3.0, -1.0]\n",
    "])\n",
    "\n",
    "matrix_b = np.array([\n",
    "    [1.0, 2.0],\n",
    "    [3.0, 4.0],\n",
    "    [5.0, 6.0]\n",
    "])\n",
    "\n",
    "# Perform matrix multiplication\n",
    "numpy_result = np.dot(matrix_a, matrix_b)\n",
    "\n",
    "print(\"NumPy Matrix Multiplication Result (for verification):\")\n",
    "print(\"Matrix A (2x3):\")\n",
    "print(matrix_a)\n",
    "print(\"\\nMatrix B (3x2):\")\n",
    "print(matrix_b)\n",
    "print(\"\\nResult A × B (2x2):\")\n",
    "print(numpy_result)\n",
    "\n",
    "# Convert to same format as Spark result for comparison\n",
    "print(\"\\nNumPy result in coordinate format:\")\n",
    "for i in range(numpy_result.shape[0]):\n",
    "    for j in range(numpy_result.shape[1]):\n",
    "        if numpy_result[i,j] != 0:  # Only show non-zero entries\n",
    "            print(f\"({i},{j}) = {numpy_result[i,j]}\")"
   ]
  }
 ],
 "metadata": {
  "kernelspec": {
   "display_name": ".venv",
   "language": "python",
   "name": "python3"
  },
  "language_info": {
   "codemirror_mode": {
    "name": "ipython",
    "version": 3
   },
   "file_extension": ".py",
   "mimetype": "text/x-python",
   "name": "python",
   "nbconvert_exporter": "python",
   "pygments_lexer": "ipython3",
   "version": "3.10.18"
  }
 },
 "nbformat": 4,
 "nbformat_minor": 5
}
